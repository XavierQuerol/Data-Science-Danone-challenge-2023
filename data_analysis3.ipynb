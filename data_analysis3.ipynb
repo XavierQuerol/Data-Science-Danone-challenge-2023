{
  "cells": [
    {
      "cell_type": "markdown",
      "metadata": {
        "id": "X5l9liQD_1QZ"
      },
      "source": [
        "## Imports"
      ]
    },
    {
      "cell_type": "code",
      "execution_count": 1,
      "metadata": {
        "colab": {
          "base_uri": "https://localhost:8080/"
        },
        "id": "j5XYla92_1Qd",
        "outputId": "79f6a1a3-3ad6-4a98-8883-3689b4e11ff5"
      },
      "outputs": [
        {
          "output_type": "stream",
          "name": "stdout",
          "text": [
            "Mounted at /content/drive\n"
          ]
        }
      ],
      "source": [
        "import pandas as pd\n",
        "import json\n",
        "import numpy as np\n",
        "from sklearn.preprocessing import MultiLabelBinarizer\n",
        "from google.colab import drive\n",
        "drive.mount('/content/drive')"
      ]
    },
    {
      "cell_type": "code",
      "source": [
        "!pip install category_encoders"
      ],
      "metadata": {
        "colab": {
          "base_uri": "https://localhost:8080/"
        },
        "id": "7ACPh1-TA2Qt",
        "outputId": "34894fc4-1367-4353-88d7-2be3685ef44c"
      },
      "execution_count": 5,
      "outputs": [
        {
          "output_type": "stream",
          "name": "stdout",
          "text": [
            "Looking in indexes: https://pypi.org/simple, https://us-python.pkg.dev/colab-wheels/public/simple/\n",
            "Collecting category_encoders\n",
            "  Downloading category_encoders-2.6.1-py2.py3-none-any.whl (81 kB)\n",
            "\u001b[2K     \u001b[90m━━━━━━━━━━━━━━━━━━━━━━━━━━━━━━━━━━━━━━━━\u001b[0m \u001b[32m81.9/81.9 kB\u001b[0m \u001b[31m9.3 MB/s\u001b[0m eta \u001b[36m0:00:00\u001b[0m\n",
            "\u001b[?25hRequirement already satisfied: numpy>=1.14.0 in /usr/local/lib/python3.10/dist-packages (from category_encoders) (1.22.4)\n",
            "Requirement already satisfied: scikit-learn>=0.20.0 in /usr/local/lib/python3.10/dist-packages (from category_encoders) (1.2.2)\n",
            "Requirement already satisfied: scipy>=1.0.0 in /usr/local/lib/python3.10/dist-packages (from category_encoders) (1.10.1)\n",
            "Requirement already satisfied: statsmodels>=0.9.0 in /usr/local/lib/python3.10/dist-packages (from category_encoders) (0.13.5)\n",
            "Requirement already satisfied: pandas>=1.0.5 in /usr/local/lib/python3.10/dist-packages (from category_encoders) (1.5.3)\n",
            "Requirement already satisfied: patsy>=0.5.1 in /usr/local/lib/python3.10/dist-packages (from category_encoders) (0.5.3)\n",
            "Requirement already satisfied: python-dateutil>=2.8.1 in /usr/local/lib/python3.10/dist-packages (from pandas>=1.0.5->category_encoders) (2.8.2)\n",
            "Requirement already satisfied: pytz>=2020.1 in /usr/local/lib/python3.10/dist-packages (from pandas>=1.0.5->category_encoders) (2022.7.1)\n",
            "Requirement already satisfied: six in /usr/local/lib/python3.10/dist-packages (from patsy>=0.5.1->category_encoders) (1.16.0)\n",
            "Requirement already satisfied: joblib>=1.1.1 in /usr/local/lib/python3.10/dist-packages (from scikit-learn>=0.20.0->category_encoders) (1.2.0)\n",
            "Requirement already satisfied: threadpoolctl>=2.0.0 in /usr/local/lib/python3.10/dist-packages (from scikit-learn>=0.20.0->category_encoders) (3.1.0)\n",
            "Requirement already satisfied: packaging>=21.3 in /usr/local/lib/python3.10/dist-packages (from statsmodels>=0.9.0->category_encoders) (23.1)\n",
            "Installing collected packages: category_encoders\n",
            "Successfully installed category_encoders-2.6.1\n"
          ]
        }
      ]
    },
    {
      "cell_type": "markdown",
      "metadata": {
        "id": "c-o_ZkQ4_1Qf"
      },
      "source": [
        "## Load data"
      ]
    },
    {
      "cell_type": "code",
      "execution_count": 2,
      "metadata": {
        "id": "HWlHB7f7_1Qg"
      },
      "outputs": [],
      "source": [
        "test_data = json.load(open(\"/content/drive/MyDrive/test_products.json\", \"r\"))\n",
        "train_data = json.load(open(\"/content/drive/MyDrive/train_products.json\", \"r\"))"
      ]
    },
    {
      "cell_type": "code",
      "execution_count": 3,
      "metadata": {
        "id": "dAMOShVH_1Qg"
      },
      "outputs": [],
      "source": [
        "df_train = pd.DataFrame.from_dict(train_data, orient=\"index\")\n",
        "df_test = pd.DataFrame.from_dict(test_data, orient=\"index\")"
      ]
    },
    {
      "cell_type": "markdown",
      "metadata": {
        "id": "aaWzb11e_1Qi"
      },
      "source": [
        "## Preprocessing"
      ]
    },
    {
      "cell_type": "code",
      "execution_count": 4,
      "metadata": {
        "id": "tnXqlgz4_1Qi"
      },
      "outputs": [],
      "source": [
        "#to remove\n",
        "col_to_remove = [\"name\", \"generic_name\", \"ingredient_origins\", \"calcium_100g\", \"brand\"]\n",
        "\n",
        "#categorical\n",
        "col_categorical = [\"nutrition_grade\", \"is_beverage\"]\n",
        "\n",
        "#int\n",
        "col_int = [\"additives_count\", \"non_recyclable_and_non_biodegradable_materials_count\"]\n",
        "\n",
        "#float\n",
        "col_float = ['carbohydrates_100g', 'energy_kcal_100g', 'fat_100g', 'fiber_100g', 'proteins_100g', 'salt_100g', 'sodium_100g', 'sugars_100g',\n",
        "\"est_co2_agriculture\", \"est_co2_consumption\", \"est_co2_distribution\", \"est_co2_packaging\", \"est_co2_processing\", \"est_co2_transportation\"]\n",
        "\n",
        "#to build one hot encoder from list\n",
        "col_to_transform_from_list = [\"categories_hierarchy\", \"selling_countries\", \"packaging_materials\"]\n",
        "\n",
        "#to build one hot encoder from dictionary\n",
        "col_to_transform_from_dict = [\"ingredients\"]\n",
        "\n",
        "target = \"ecoscore_grade\""
      ]
    },
    {
      "cell_type": "code",
      "execution_count": 6,
      "metadata": {
        "id": "GtGqBxPu_1Qj"
      },
      "outputs": [],
      "source": [
        "mlb = MultiLabelBinarizer()\n",
        "import category_encoders as ce\n",
        "\n",
        "\n",
        "def preprocessing(df):\n",
        "    df = df.drop(columns = col_to_remove)\n",
        "    #df = df.drop(columns = col_to_transform_from_dict)\n",
        "    #df = df.drop(columns = col_to_transform_from_list)\n",
        "\n",
        "    for col in col_int+col_float:\n",
        "        df.loc[df[df[col]==\"unknown\"].index, col] = np.NaN\n",
        "\n",
        "    df[col_int] = df[col_int].astype(float)\n",
        "    df[col_float] = df[col_float].astype(float)\n",
        "\n",
        "    for col in col_to_transform_from_list:\n",
        "        df = df.join(\n",
        "                pd.DataFrame(\n",
        "                    mlb.fit_transform(df.pop(col)),\n",
        "                    index=df.index,\n",
        "                    columns=mlb.classes_))\n",
        "\n",
        "    return df\n",
        "\n",
        "df_train[target] = df_train[target].astype(int)\n",
        "\n",
        "encoder = ce.OrdinalEncoder(cols=col_categorical)\n",
        "df_train = encoder.fit_transform(df_train)\n",
        "df_test[\"ecoscore_grade\"] = 0\n",
        "df_test = encoder.transform(df_test)\n",
        "df_test = df_test.drop(columns=\"ecoscore_grade\")\n",
        "\n",
        "df_train = preprocessing(df_train)\n",
        "df_test = preprocessing(df_test)"
      ]
    },
    {
      "cell_type": "code",
      "execution_count": 7,
      "metadata": {
        "id": "OkO390YM_1Qk"
      },
      "outputs": [],
      "source": [
        "words = {}\n",
        "\n",
        "for row in df_train[\"ingredients\"].values:\n",
        "    if row != \"unknown\" and row != []:\n",
        "        for ing in row:\n",
        "            word = ing[\"id\"]\n",
        "            try:\n",
        "                words[word] += 1\n",
        "            except:\n",
        "                words[word] = 1\n",
        "\n",
        "words_test = {}\n",
        "\n",
        "for row in df_test[\"ingredients\"].values:\n",
        "    if row != \"unknown\" and row != []:\n",
        "        for ing in row:\n",
        "            word = ing[\"id\"]\n",
        "            try:\n",
        "                words_test[word] += 1\n",
        "            except:\n",
        "                words_test[word] = 1\n",
        "list_of_ing = []\n",
        "for key_test in words_test.keys():\n",
        "    try:\n",
        "        if words[key_test] > 0:\n",
        "            list_of_ing.append(key_test)\n",
        "    except:\n",
        "        continue\n",
        "\n",
        "ingredients = {key: words[key] for key in list_of_ing}\n",
        "\n",
        "sorted_ingredients = sorted(ingredients.items(), key=lambda x: x[1], reverse=True)\n",
        "sorted_ingredients = [c[0] for c in sorted_ingredients[:50]]\n",
        "\n",
        "for ing in sorted_ingredients:\n",
        "    df_train[ing] = np.zeros(20835)\n",
        "    df_test[ing]  = np.zeros(1272)\n",
        "\n",
        "for i in df_test.index:\n",
        "    if df_test.loc[[i],\"ingredients\"][0] == \"unknown\":\n",
        "        df_test.loc[[i], sorted_ingredients] = np.NaN\n",
        "        continue\n",
        "    for ing in df_test.loc[[i],\"ingredients\"][0]:\n",
        "        try:\n",
        "            if ing[\"id\"] in sorted_ingredients:\n",
        "                df_test.loc[[i],ing[\"id\"]] = float(ing[\"percent_estimate\"])\n",
        "        except:\n",
        "            continue\n",
        "for i in df_train.index:\n",
        "    if df_train.loc[[i],\"ingredients\"][0] == \"unknown\":\n",
        "        df_train.loc[[i], sorted_ingredients] = np.NaN\n",
        "        continue\n",
        "    for ing in df_train.loc[[i],\"ingredients\"][0]:\n",
        "        try:\n",
        "            if ing[\"id\"] in sorted_ingredients:\n",
        "                df_train.loc[[i],ing[\"id\"]] = float(ing[\"percent_estimate\"])\n",
        "        except:\n",
        "            continue"
      ]
    },
    {
      "cell_type": "code",
      "execution_count": 8,
      "metadata": {
        "id": "M-xprDFq_1Qm"
      },
      "outputs": [],
      "source": [
        "df_train = df_train.drop(columns = col_to_transform_from_dict)\n",
        "df_test = df_test.drop(columns = col_to_transform_from_dict)\n",
        "df_train = df_train.drop_duplicates()"
      ]
    },
    {
      "cell_type": "code",
      "execution_count": 9,
      "metadata": {
        "id": "qmLCfOcP_1Qm"
      },
      "outputs": [],
      "source": [
        "cols = set(df_train.columns) - set(df_test.columns)\n",
        "cols.remove(\"ecoscore_grade\")\n",
        "#cols.add(\"en:unknown\")\n",
        "df_train = df_train.drop(columns=cols)\n",
        "cols = set(df_test.columns) - set(df_train.columns)\n",
        "df_test = df_test.drop(columns=cols)\n",
        "\n",
        "cols_train = list(df_train.columns)\n",
        "cols_train.remove(\"ecoscore_grade\")\n",
        "df_test = df_test[cols_train]\n",
        "cols_train.append(\"ecoscore_grade\")\n",
        "df_train = df_train[cols_train]"
      ]
    },
    {
      "cell_type": "code",
      "execution_count": null,
      "metadata": {
        "id": "9BnEq03N_1Qn"
      },
      "outputs": [],
      "source": [
        "c = list(df_train.columns)\n",
        "c2 = list(df_test.columns)\n",
        "for i, j in zip(c,c2):\n",
        "    if i != j:\n",
        "        print(i, j)"
      ]
    },
    {
      "cell_type": "markdown",
      "metadata": {
        "id": "Nbk_Zm94_1Qn"
      },
      "source": [
        "## Train xgboost"
      ]
    },
    {
      "cell_type": "code",
      "execution_count": 10,
      "metadata": {
        "id": "6NprjLGp_1Qo"
      },
      "outputs": [],
      "source": [
        "X = df_train.drop(columns=[\"ecoscore_grade\"])\n",
        "Y = df_train[\"ecoscore_grade\"]"
      ]
    },
    {
      "cell_type": "code",
      "execution_count": 13,
      "metadata": {
        "id": "XjnQNdnM_1Qo"
      },
      "outputs": [],
      "source": [
        "import xgboost as xgb\n",
        "from sklearn.model_selection import GridSearchCV\n",
        "\n",
        "def grid_xgboost(X,y):\n",
        "    gsc = GridSearchCV(\n",
        "                estimator=xgb.XGBClassifier(tree_method='gpu_hist'),\n",
        "                param_grid={\n",
        "                            \"n_estimators\": [80, 100, 120],\n",
        "                            \"learning_rate\": [0.15],\n",
        "                            \"max_depth\": [6, 10],\n",
        "                            \"min_child_weight\": [1]},\n",
        "                cv=5, scoring=\"f1_macro\", verbose=0, n_jobs=-1)\n",
        "    gsc.fit(X,y)\n",
        "    return gsc"
      ]
    },
    {
      "cell_type": "code",
      "execution_count": null,
      "metadata": {
        "id": "siLH2zmL_1Qp"
      },
      "outputs": [],
      "source": [
        "scale_pos_weight = [0.04323695562591608, 0.668195846192343, 0.06837606837606838, 0.12549240292628025, 0.09409190371991247]"
      ]
    },
    {
      "cell_type": "code",
      "execution_count": 14,
      "metadata": {
        "id": "ExEF1asu_1Qq"
      },
      "outputs": [],
      "source": [
        "grid_search_xgboost = grid_xgboost(X,Y)"
      ]
    },
    {
      "cell_type": "code",
      "execution_count": 15,
      "metadata": {
        "id": "5sQ4VNcn_1Qq"
      },
      "outputs": [],
      "source": [
        "df_grid = pd.DataFrame(grid_search_xgboost.cv_results_)"
      ]
    },
    {
      "cell_type": "code",
      "execution_count": 16,
      "metadata": {
        "colab": {
          "base_uri": "https://localhost:8080/",
          "height": 614
        },
        "id": "ESm9YRCE_1Qr",
        "outputId": "182d2daa-7b60-4fea-a587-a5e864e0b50e"
      },
      "outputs": [
        {
          "output_type": "execute_result",
          "data": {
            "text/plain": [
              "   mean_fit_time  std_fit_time  mean_score_time  std_score_time  \\\n",
              "0       6.648514      0.268611         0.175753        0.057214   \n",
              "1       6.341060      0.399089         0.193161        0.058110   \n",
              "2       7.579941      0.586858         0.254416        0.086288   \n",
              "3       9.814767      1.121503         0.223461        0.072177   \n",
              "4      11.310625      0.099328         0.221960        0.015126   \n",
              "5      12.740221      0.240158         0.352613        0.115985   \n",
              "\n",
              "  param_learning_rate param_max_depth param_min_child_weight  \\\n",
              "0                0.15               6                      1   \n",
              "1                0.15               6                      1   \n",
              "2                0.15               6                      1   \n",
              "3                0.15              10                      1   \n",
              "4                0.15              10                      1   \n",
              "5                0.15              10                      1   \n",
              "\n",
              "  param_n_estimators                                             params  \\\n",
              "0                 80  {'learning_rate': 0.15, 'max_depth': 6, 'min_c...   \n",
              "1                100  {'learning_rate': 0.15, 'max_depth': 6, 'min_c...   \n",
              "2                120  {'learning_rate': 0.15, 'max_depth': 6, 'min_c...   \n",
              "3                 80  {'learning_rate': 0.15, 'max_depth': 10, 'min_...   \n",
              "4                100  {'learning_rate': 0.15, 'max_depth': 10, 'min_...   \n",
              "5                120  {'learning_rate': 0.15, 'max_depth': 10, 'min_...   \n",
              "\n",
              "   split0_test_score  split1_test_score  split2_test_score  split3_test_score  \\\n",
              "0           0.856702           0.847351           0.859856           0.846955   \n",
              "1           0.857311           0.850804           0.865744           0.848241   \n",
              "2           0.852931           0.853890           0.865982           0.850895   \n",
              "3           0.863720           0.854565           0.863738           0.856941   \n",
              "4           0.865691           0.855922           0.863543           0.858480   \n",
              "5           0.865192           0.855307           0.861942           0.859146   \n",
              "\n",
              "   split4_test_score  mean_test_score  std_test_score  rank_test_score  \n",
              "0           0.851315         0.852436        0.005107                6  \n",
              "1           0.854963         0.855413        0.006053                5  \n",
              "2           0.853468         0.855433        0.005373                4  \n",
              "3           0.865137         0.860820        0.004236                2  \n",
              "4           0.863504         0.861428        0.003632                1  \n",
              "5           0.862255         0.860768        0.003335                3  "
            ],
            "text/html": [
              "\n",
              "  <div id=\"df-8633ad4e-4e89-4124-90fd-bb7d79fb6029\">\n",
              "    <div class=\"colab-df-container\">\n",
              "      <div>\n",
              "<style scoped>\n",
              "    .dataframe tbody tr th:only-of-type {\n",
              "        vertical-align: middle;\n",
              "    }\n",
              "\n",
              "    .dataframe tbody tr th {\n",
              "        vertical-align: top;\n",
              "    }\n",
              "\n",
              "    .dataframe thead th {\n",
              "        text-align: right;\n",
              "    }\n",
              "</style>\n",
              "<table border=\"1\" class=\"dataframe\">\n",
              "  <thead>\n",
              "    <tr style=\"text-align: right;\">\n",
              "      <th></th>\n",
              "      <th>mean_fit_time</th>\n",
              "      <th>std_fit_time</th>\n",
              "      <th>mean_score_time</th>\n",
              "      <th>std_score_time</th>\n",
              "      <th>param_learning_rate</th>\n",
              "      <th>param_max_depth</th>\n",
              "      <th>param_min_child_weight</th>\n",
              "      <th>param_n_estimators</th>\n",
              "      <th>params</th>\n",
              "      <th>split0_test_score</th>\n",
              "      <th>split1_test_score</th>\n",
              "      <th>split2_test_score</th>\n",
              "      <th>split3_test_score</th>\n",
              "      <th>split4_test_score</th>\n",
              "      <th>mean_test_score</th>\n",
              "      <th>std_test_score</th>\n",
              "      <th>rank_test_score</th>\n",
              "    </tr>\n",
              "  </thead>\n",
              "  <tbody>\n",
              "    <tr>\n",
              "      <th>0</th>\n",
              "      <td>6.648514</td>\n",
              "      <td>0.268611</td>\n",
              "      <td>0.175753</td>\n",
              "      <td>0.057214</td>\n",
              "      <td>0.15</td>\n",
              "      <td>6</td>\n",
              "      <td>1</td>\n",
              "      <td>80</td>\n",
              "      <td>{'learning_rate': 0.15, 'max_depth': 6, 'min_c...</td>\n",
              "      <td>0.856702</td>\n",
              "      <td>0.847351</td>\n",
              "      <td>0.859856</td>\n",
              "      <td>0.846955</td>\n",
              "      <td>0.851315</td>\n",
              "      <td>0.852436</td>\n",
              "      <td>0.005107</td>\n",
              "      <td>6</td>\n",
              "    </tr>\n",
              "    <tr>\n",
              "      <th>1</th>\n",
              "      <td>6.341060</td>\n",
              "      <td>0.399089</td>\n",
              "      <td>0.193161</td>\n",
              "      <td>0.058110</td>\n",
              "      <td>0.15</td>\n",
              "      <td>6</td>\n",
              "      <td>1</td>\n",
              "      <td>100</td>\n",
              "      <td>{'learning_rate': 0.15, 'max_depth': 6, 'min_c...</td>\n",
              "      <td>0.857311</td>\n",
              "      <td>0.850804</td>\n",
              "      <td>0.865744</td>\n",
              "      <td>0.848241</td>\n",
              "      <td>0.854963</td>\n",
              "      <td>0.855413</td>\n",
              "      <td>0.006053</td>\n",
              "      <td>5</td>\n",
              "    </tr>\n",
              "    <tr>\n",
              "      <th>2</th>\n",
              "      <td>7.579941</td>\n",
              "      <td>0.586858</td>\n",
              "      <td>0.254416</td>\n",
              "      <td>0.086288</td>\n",
              "      <td>0.15</td>\n",
              "      <td>6</td>\n",
              "      <td>1</td>\n",
              "      <td>120</td>\n",
              "      <td>{'learning_rate': 0.15, 'max_depth': 6, 'min_c...</td>\n",
              "      <td>0.852931</td>\n",
              "      <td>0.853890</td>\n",
              "      <td>0.865982</td>\n",
              "      <td>0.850895</td>\n",
              "      <td>0.853468</td>\n",
              "      <td>0.855433</td>\n",
              "      <td>0.005373</td>\n",
              "      <td>4</td>\n",
              "    </tr>\n",
              "    <tr>\n",
              "      <th>3</th>\n",
              "      <td>9.814767</td>\n",
              "      <td>1.121503</td>\n",
              "      <td>0.223461</td>\n",
              "      <td>0.072177</td>\n",
              "      <td>0.15</td>\n",
              "      <td>10</td>\n",
              "      <td>1</td>\n",
              "      <td>80</td>\n",
              "      <td>{'learning_rate': 0.15, 'max_depth': 10, 'min_...</td>\n",
              "      <td>0.863720</td>\n",
              "      <td>0.854565</td>\n",
              "      <td>0.863738</td>\n",
              "      <td>0.856941</td>\n",
              "      <td>0.865137</td>\n",
              "      <td>0.860820</td>\n",
              "      <td>0.004236</td>\n",
              "      <td>2</td>\n",
              "    </tr>\n",
              "    <tr>\n",
              "      <th>4</th>\n",
              "      <td>11.310625</td>\n",
              "      <td>0.099328</td>\n",
              "      <td>0.221960</td>\n",
              "      <td>0.015126</td>\n",
              "      <td>0.15</td>\n",
              "      <td>10</td>\n",
              "      <td>1</td>\n",
              "      <td>100</td>\n",
              "      <td>{'learning_rate': 0.15, 'max_depth': 10, 'min_...</td>\n",
              "      <td>0.865691</td>\n",
              "      <td>0.855922</td>\n",
              "      <td>0.863543</td>\n",
              "      <td>0.858480</td>\n",
              "      <td>0.863504</td>\n",
              "      <td>0.861428</td>\n",
              "      <td>0.003632</td>\n",
              "      <td>1</td>\n",
              "    </tr>\n",
              "    <tr>\n",
              "      <th>5</th>\n",
              "      <td>12.740221</td>\n",
              "      <td>0.240158</td>\n",
              "      <td>0.352613</td>\n",
              "      <td>0.115985</td>\n",
              "      <td>0.15</td>\n",
              "      <td>10</td>\n",
              "      <td>1</td>\n",
              "      <td>120</td>\n",
              "      <td>{'learning_rate': 0.15, 'max_depth': 10, 'min_...</td>\n",
              "      <td>0.865192</td>\n",
              "      <td>0.855307</td>\n",
              "      <td>0.861942</td>\n",
              "      <td>0.859146</td>\n",
              "      <td>0.862255</td>\n",
              "      <td>0.860768</td>\n",
              "      <td>0.003335</td>\n",
              "      <td>3</td>\n",
              "    </tr>\n",
              "  </tbody>\n",
              "</table>\n",
              "</div>\n",
              "      <button class=\"colab-df-convert\" onclick=\"convertToInteractive('df-8633ad4e-4e89-4124-90fd-bb7d79fb6029')\"\n",
              "              title=\"Convert this dataframe to an interactive table.\"\n",
              "              style=\"display:none;\">\n",
              "        \n",
              "  <svg xmlns=\"http://www.w3.org/2000/svg\" height=\"24px\"viewBox=\"0 0 24 24\"\n",
              "       width=\"24px\">\n",
              "    <path d=\"M0 0h24v24H0V0z\" fill=\"none\"/>\n",
              "    <path d=\"M18.56 5.44l.94 2.06.94-2.06 2.06-.94-2.06-.94-.94-2.06-.94 2.06-2.06.94zm-11 1L8.5 8.5l.94-2.06 2.06-.94-2.06-.94L8.5 2.5l-.94 2.06-2.06.94zm10 10l.94 2.06.94-2.06 2.06-.94-2.06-.94-.94-2.06-.94 2.06-2.06.94z\"/><path d=\"M17.41 7.96l-1.37-1.37c-.4-.4-.92-.59-1.43-.59-.52 0-1.04.2-1.43.59L10.3 9.45l-7.72 7.72c-.78.78-.78 2.05 0 2.83L4 21.41c.39.39.9.59 1.41.59.51 0 1.02-.2 1.41-.59l7.78-7.78 2.81-2.81c.8-.78.8-2.07 0-2.86zM5.41 20L4 18.59l7.72-7.72 1.47 1.35L5.41 20z\"/>\n",
              "  </svg>\n",
              "      </button>\n",
              "      \n",
              "  <style>\n",
              "    .colab-df-container {\n",
              "      display:flex;\n",
              "      flex-wrap:wrap;\n",
              "      gap: 12px;\n",
              "    }\n",
              "\n",
              "    .colab-df-convert {\n",
              "      background-color: #E8F0FE;\n",
              "      border: none;\n",
              "      border-radius: 50%;\n",
              "      cursor: pointer;\n",
              "      display: none;\n",
              "      fill: #1967D2;\n",
              "      height: 32px;\n",
              "      padding: 0 0 0 0;\n",
              "      width: 32px;\n",
              "    }\n",
              "\n",
              "    .colab-df-convert:hover {\n",
              "      background-color: #E2EBFA;\n",
              "      box-shadow: 0px 1px 2px rgba(60, 64, 67, 0.3), 0px 1px 3px 1px rgba(60, 64, 67, 0.15);\n",
              "      fill: #174EA6;\n",
              "    }\n",
              "\n",
              "    [theme=dark] .colab-df-convert {\n",
              "      background-color: #3B4455;\n",
              "      fill: #D2E3FC;\n",
              "    }\n",
              "\n",
              "    [theme=dark] .colab-df-convert:hover {\n",
              "      background-color: #434B5C;\n",
              "      box-shadow: 0px 1px 3px 1px rgba(0, 0, 0, 0.15);\n",
              "      filter: drop-shadow(0px 1px 2px rgba(0, 0, 0, 0.3));\n",
              "      fill: #FFFFFF;\n",
              "    }\n",
              "  </style>\n",
              "\n",
              "      <script>\n",
              "        const buttonEl =\n",
              "          document.querySelector('#df-8633ad4e-4e89-4124-90fd-bb7d79fb6029 button.colab-df-convert');\n",
              "        buttonEl.style.display =\n",
              "          google.colab.kernel.accessAllowed ? 'block' : 'none';\n",
              "\n",
              "        async function convertToInteractive(key) {\n",
              "          const element = document.querySelector('#df-8633ad4e-4e89-4124-90fd-bb7d79fb6029');\n",
              "          const dataTable =\n",
              "            await google.colab.kernel.invokeFunction('convertToInteractive',\n",
              "                                                     [key], {});\n",
              "          if (!dataTable) return;\n",
              "\n",
              "          const docLinkHtml = 'Like what you see? Visit the ' +\n",
              "            '<a target=\"_blank\" href=https://colab.research.google.com/notebooks/data_table.ipynb>data table notebook</a>'\n",
              "            + ' to learn more about interactive tables.';\n",
              "          element.innerHTML = '';\n",
              "          dataTable['output_type'] = 'display_data';\n",
              "          await google.colab.output.renderOutput(dataTable, element);\n",
              "          const docLink = document.createElement('div');\n",
              "          docLink.innerHTML = docLinkHtml;\n",
              "          element.appendChild(docLink);\n",
              "        }\n",
              "      </script>\n",
              "    </div>\n",
              "  </div>\n",
              "  "
            ]
          },
          "metadata": {},
          "execution_count": 16
        }
      ],
      "source": [
        "df_grid"
      ]
    },
    {
      "cell_type": "markdown",
      "metadata": {
        "id": "sHFTE1ek_1Qu"
      },
      "source": [
        "## Predict"
      ]
    },
    {
      "cell_type": "code",
      "execution_count": 17,
      "metadata": {
        "id": "EHTPNx5C_1Qv"
      },
      "outputs": [],
      "source": [
        "Pred = df_test.copy()\n",
        "Pred[\"ecoscore_grade\"] =  grid_search_xgboost.predict(df_test)\n"
      ]
    },
    {
      "cell_type": "code",
      "execution_count": 18,
      "metadata": {
        "id": "kPQ9Eop0_1Qv"
      },
      "outputs": [],
      "source": [
        "df_pred = pd.DataFrame(Pred[\"ecoscore_grade\"].values, columns = [\"target\"])"
      ]
    },
    {
      "cell_type": "code",
      "execution_count": 21,
      "metadata": {
        "id": "NNwmkJ1s_1Qw"
      },
      "outputs": [],
      "source": [
        "#df_pred.to_json(\"1st submit.json\") 0.72\n",
        "#df_pred.to_json(\"2nd submit.json\") 0.84303\n",
        "df_pred.to_json(\"/content/4 submit.json\")"
      ]
    },
    {
      "cell_type": "markdown",
      "metadata": {
        "id": "YAYmoDf__1Qw"
      },
      "source": [
        "## Create submissions"
      ]
    },
    {
      "cell_type": "code",
      "execution_count": null,
      "metadata": {
        "id": "UbcHIkjW_1Qx"
      },
      "outputs": [],
      "source": [
        "for i in range(5):\n",
        "    df_pred_i = pd.DataFrame(np.array([i for c in range(1272)]), columns = [\"target\"])\n",
        "    df_pred_i.to_json(f\"submit{i}.json\")"
      ]
    },
    {
      "cell_type": "code",
      "execution_count": null,
      "metadata": {
        "id": "QLXOIE2F_1Qx"
      },
      "outputs": [],
      "source": [
        "f1s = [0.016578, 0.16022, 0.0256, 0.0446, 0.0344]\n",
        "results = []\n",
        "for i in f1s:\n",
        "    calcul = i*5/(2 - i*5)\n",
        "    results.append(calcul)"
      ]
    },
    {
      "cell_type": "code",
      "execution_count": null,
      "metadata": {
        "id": "EwA9C-JI_1Qy"
      },
      "outputs": [],
      "source": [
        "results"
      ]
    },
    {
      "cell_type": "code",
      "execution_count": null,
      "metadata": {
        "id": "Ts94osHE_1Qy"
      },
      "outputs": [],
      "source": []
    }
  ],
  "metadata": {
    "kernelspec": {
      "display_name": "Python 3",
      "name": "python3"
    },
    "language_info": {
      "name": "python"
    },
    "orig_nbformat": 4,
    "colab": {
      "provenance": [],
      "gpuType": "T4"
    },
    "accelerator": "GPU"
  },
  "nbformat": 4,
  "nbformat_minor": 0
}