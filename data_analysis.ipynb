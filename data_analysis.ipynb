{
 "cells": [
  {
   "attachments": {},
   "cell_type": "markdown",
   "metadata": {},
   "source": [
    "## Imports"
   ]
  },
  {
   "cell_type": "code",
   "execution_count": 1,
   "metadata": {},
   "outputs": [],
   "source": [
    "import pandas as pd\n",
    "import json\n",
    "import numpy as np\n",
    "from sklearn.preprocessing import MultiLabelBinarizer"
   ]
  },
  {
   "attachments": {},
   "cell_type": "markdown",
   "metadata": {},
   "source": [
    "## Load data"
   ]
  },
  {
   "cell_type": "code",
   "execution_count": 2,
   "metadata": {},
   "outputs": [],
   "source": [
    "test_data = json.load(open(\"test_products.json\", \"r\"))\n",
    "train_data = json.load(open(\"train_products.json\", \"r\"))"
   ]
  },
  {
   "cell_type": "code",
   "execution_count": 3,
   "metadata": {},
   "outputs": [],
   "source": [
    "df_train = pd.DataFrame.from_dict(train_data, orient=\"index\")\n",
    "df_test = pd.DataFrame.from_dict(test_data, orient=\"index\")"
   ]
  },
  {
   "attachments": {},
   "cell_type": "markdown",
   "metadata": {},
   "source": [
    "## Preprocessing"
   ]
  },
  {
   "cell_type": "code",
   "execution_count": 4,
   "metadata": {},
   "outputs": [],
   "source": [
    "#to remove\n",
    "col_to_remove = [\"name\", \"generic_name\", \"brand\"]\n",
    "\n",
    "#categorical\n",
    "col_categorical = [\"nutrition_grade\", \"is_beverage\"]\n",
    "\n",
    "#int\n",
    "col_int = [\"additives_count\", \"non_recyclable_and_non_biodegradable_materials_count\"]\n",
    "\n",
    "#float\n",
    "col_float = ['carbohydrates_100g', 'energy_kcal_100g', 'fat_100g', 'fiber_100g', 'proteins_100g', 'salt_100g', 'sodium_100g', 'sugars_100g', \"calcium_100g\",\n",
    "\"est_co2_agriculture\", \"est_co2_consumption\", \"est_co2_distribution\", \"est_co2_packaging\", \"est_co2_processing\", \"est_co2_transportation\"]\n",
    "\n",
    "#to build one hot encoder from list\n",
    "col_to_transform_from_list = [\"categories_hierarchy\", \"selling_countries\", \"packaging_materials\", \"ingredient_origins\"]\n",
    "\n",
    "#to build one hot encoder from dictionary\n",
    "col_to_transform_from_dict = [\"ingredients\"]\n",
    "\n",
    "target = \"ecoscore_grade\""
   ]
  },
  {
   "cell_type": "code",
   "execution_count": 5,
   "metadata": {},
   "outputs": [],
   "source": [
    "mlb = MultiLabelBinarizer()\n",
    "import category_encoders as ce\n",
    "\n",
    "\n",
    "def preprocessing(df):\n",
    "    df = df.drop(columns = col_to_remove)\n",
    "    df = df.drop(columns = col_to_transform_from_dict)\n",
    "\n",
    "    for col in col_int+col_float:\n",
    "        df.loc[df[df[col]==\"unknown\"].index, col] = np.NaN\n",
    "\n",
    "    df[\"nutrition_grade_value\"] = np.zeros(len(df))\n",
    "    for col in [\"nutrition_grade\"]:\n",
    "        df.loc[df[df[col]==\"unknown\"].index, \"nutrition_grade_value\"] = np.NaN \n",
    "        df.loc[df[df[col]==\"a\"].index, \"nutrition_grade_value\"] = 5\n",
    "        df.loc[df[df[col]==\"b\"].index, \"nutrition_grade_value\"] = 4 \n",
    "        df.loc[df[df[col]==\"c\"].index, \"nutrition_grade_value\"] = 3 \n",
    "        df.loc[df[df[col]==\"d\"].index, \"nutrition_grade_value\"] = 2 \n",
    "        df.loc[df[df[col]==\"e\"].index, \"nutrition_grade_value\"] = 1   \n",
    "\n",
    "    df[col_int] = df[col_int].astype(float)\n",
    "    df[col_float] = df[col_float].astype(float)\n",
    "\n",
    "    for i in df.index:\n",
    "        llista = list(df.loc[i, [\"ingredient_origins\"]].values[0].keys())\n",
    "        llista = [\"io\"+ c for c in llista]\n",
    "        df.at[i, \"ingredient_origins\"] = llista\n",
    "    \n",
    "    for col in col_to_transform_from_list:\n",
    "        df = df.join(\n",
    "                pd.DataFrame(\n",
    "                    mlb.fit_transform(df.pop(col)),\n",
    "                    index=df.index,\n",
    "                    columns=mlb.classes_))\n",
    "    \n",
    "    return df\n",
    "\n",
    "df_train[target] = df_train[target].astype(int)\n",
    "\n",
    "encoder = ce.OrdinalEncoder(cols=col_categorical)   \n",
    "df_train = encoder.fit_transform(df_train)\n",
    "df_test[\"ecoscore_grade\"] = 0\n",
    "df_test = encoder.transform(df_test)\n",
    "df_test = df_test.drop(columns=\"ecoscore_grade\")\n",
    "\n",
    "df_train = preprocessing(df_train)\n",
    "df_test = preprocessing(df_test)"
   ]
  },
  {
   "cell_type": "code",
   "execution_count": 6,
   "metadata": {},
   "outputs": [],
   "source": [
    "df_train = df_train.drop_duplicates()"
   ]
  },
  {
   "cell_type": "code",
   "execution_count": 7,
   "metadata": {},
   "outputs": [],
   "source": [
    "cols = set(df_train.columns) - set(df_test.columns)\n",
    "cols.remove(\"ecoscore_grade\")\n",
    "#cols.add(\"en:unknown\")\n",
    "df_train = df_train.drop(columns=cols)\n",
    "cols = set(df_test.columns) - set(df_train.columns)\n",
    "df_test = df_test.drop(columns=cols)"
   ]
  },
  {
   "attachments": {},
   "cell_type": "markdown",
   "metadata": {},
   "source": [
    "## Train xgboost"
   ]
  },
  {
   "cell_type": "code",
   "execution_count": 8,
   "metadata": {},
   "outputs": [],
   "source": [
    "X = df_train.drop(columns=[\"ecoscore_grade\"])\n",
    "Y = df_train[\"ecoscore_grade\"]"
   ]
  },
  {
   "cell_type": "code",
   "execution_count": 65,
   "metadata": {},
   "outputs": [],
   "source": [
    "import xgboost as xgb\n",
    "from sklearn.model_selection import GridSearchCV\n",
    "\n",
    "def grid_xgboost(X,y):\n",
    "    gsc = GridSearchCV(\n",
    "                estimator=xgb.XGBClassifier(tree_method='gpu_hist'),\n",
    "                param_grid={\n",
    "                            \"n_estimators\": [110],\n",
    "                            \"learning_rate\": [0.15],\n",
    "                            \"max_depth\": [8]\n",
    "                            #\"min_child_weight\": [0.1, 0.5,1],\n",
    "                            #\"colsample_bytree\": [1],\n",
    "                            #\"subsample\": [1],\n",
    "                            #\"gamma\": [0.2],\n",
    "                            #\"reg_alpha\": [0,0.1,0.001],\n",
    "                            #\"reg_lambda\": [0,0.1,0.001]\n",
    "                            },\n",
    "                cv=5, scoring=\"f1_macro\", verbose=0, n_jobs=-1)\n",
    "    gsc.fit(X,y)\n",
    "    return gsc"
   ]
  },
  {
   "cell_type": "code",
   "execution_count": 66,
   "metadata": {},
   "outputs": [],
   "source": [
    "grid_search_xgboost = grid_xgboost(X,Y)"
   ]
  },
  {
   "cell_type": "code",
   "execution_count": 67,
   "metadata": {},
   "outputs": [],
   "source": [
    "df_grid = pd.DataFrame(grid_search_xgboost.cv_results_)"
   ]
  },
  {
   "cell_type": "code",
   "execution_count": 68,
   "metadata": {},
   "outputs": [
    {
     "data": {
      "text/html": [
       "<div>\n",
       "<style scoped>\n",
       "    .dataframe tbody tr th:only-of-type {\n",
       "        vertical-align: middle;\n",
       "    }\n",
       "\n",
       "    .dataframe tbody tr th {\n",
       "        vertical-align: top;\n",
       "    }\n",
       "\n",
       "    .dataframe thead th {\n",
       "        text-align: right;\n",
       "    }\n",
       "</style>\n",
       "<table border=\"1\" class=\"dataframe\">\n",
       "  <thead>\n",
       "    <tr style=\"text-align: right;\">\n",
       "      <th></th>\n",
       "      <th>mean_fit_time</th>\n",
       "      <th>std_fit_time</th>\n",
       "      <th>mean_score_time</th>\n",
       "      <th>std_score_time</th>\n",
       "      <th>param_booster</th>\n",
       "      <th>param_learning_rate</th>\n",
       "      <th>param_max_delta_step</th>\n",
       "      <th>param_max_depth</th>\n",
       "      <th>param_n_estimators</th>\n",
       "      <th>params</th>\n",
       "      <th>split0_test_score</th>\n",
       "      <th>split1_test_score</th>\n",
       "      <th>split2_test_score</th>\n",
       "      <th>split3_test_score</th>\n",
       "      <th>split4_test_score</th>\n",
       "      <th>mean_test_score</th>\n",
       "      <th>std_test_score</th>\n",
       "      <th>rank_test_score</th>\n",
       "    </tr>\n",
       "  </thead>\n",
       "  <tbody>\n",
       "    <tr>\n",
       "      <th>0</th>\n",
       "      <td>32.542704</td>\n",
       "      <td>0.046872</td>\n",
       "      <td>0.169630</td>\n",
       "      <td>0.014040</td>\n",
       "      <td>gbtree</td>\n",
       "      <td>0.15</td>\n",
       "      <td>1</td>\n",
       "      <td>8</td>\n",
       "      <td>110</td>\n",
       "      <td>{'booster': 'gbtree', 'learning_rate': 0.15, '...</td>\n",
       "      <td>0.887029</td>\n",
       "      <td>0.870334</td>\n",
       "      <td>0.879669</td>\n",
       "      <td>0.876340</td>\n",
       "      <td>0.879593</td>\n",
       "      <td>0.878593</td>\n",
       "      <td>0.005415</td>\n",
       "      <td>3</td>\n",
       "    </tr>\n",
       "    <tr>\n",
       "      <th>1</th>\n",
       "      <td>32.007077</td>\n",
       "      <td>0.293414</td>\n",
       "      <td>0.156690</td>\n",
       "      <td>0.006012</td>\n",
       "      <td>gbtree</td>\n",
       "      <td>0.15</td>\n",
       "      <td>5</td>\n",
       "      <td>8</td>\n",
       "      <td>110</td>\n",
       "      <td>{'booster': 'gbtree', 'learning_rate': 0.15, '...</td>\n",
       "      <td>0.886317</td>\n",
       "      <td>0.871680</td>\n",
       "      <td>0.882841</td>\n",
       "      <td>0.874876</td>\n",
       "      <td>0.879151</td>\n",
       "      <td>0.878973</td>\n",
       "      <td>0.005271</td>\n",
       "      <td>1</td>\n",
       "    </tr>\n",
       "    <tr>\n",
       "      <th>2</th>\n",
       "      <td>22.326087</td>\n",
       "      <td>7.834918</td>\n",
       "      <td>0.166045</td>\n",
       "      <td>0.022280</td>\n",
       "      <td>gbtree</td>\n",
       "      <td>0.15</td>\n",
       "      <td>10</td>\n",
       "      <td>8</td>\n",
       "      <td>110</td>\n",
       "      <td>{'booster': 'gbtree', 'learning_rate': 0.15, '...</td>\n",
       "      <td>0.886317</td>\n",
       "      <td>0.871680</td>\n",
       "      <td>0.882841</td>\n",
       "      <td>0.874876</td>\n",
       "      <td>0.879151</td>\n",
       "      <td>0.878973</td>\n",
       "      <td>0.005271</td>\n",
       "      <td>1</td>\n",
       "    </tr>\n",
       "  </tbody>\n",
       "</table>\n",
       "</div>"
      ],
      "text/plain": [
       "   mean_fit_time  std_fit_time  mean_score_time  std_score_time param_booster  \\\n",
       "0      32.542704      0.046872         0.169630        0.014040        gbtree   \n",
       "1      32.007077      0.293414         0.156690        0.006012        gbtree   \n",
       "2      22.326087      7.834918         0.166045        0.022280        gbtree   \n",
       "\n",
       "  param_learning_rate param_max_delta_step param_max_depth param_n_estimators  \\\n",
       "0                0.15                    1               8                110   \n",
       "1                0.15                    5               8                110   \n",
       "2                0.15                   10               8                110   \n",
       "\n",
       "                                              params  split0_test_score  \\\n",
       "0  {'booster': 'gbtree', 'learning_rate': 0.15, '...           0.887029   \n",
       "1  {'booster': 'gbtree', 'learning_rate': 0.15, '...           0.886317   \n",
       "2  {'booster': 'gbtree', 'learning_rate': 0.15, '...           0.886317   \n",
       "\n",
       "   split1_test_score  split2_test_score  split3_test_score  split4_test_score  \\\n",
       "0           0.870334           0.879669           0.876340           0.879593   \n",
       "1           0.871680           0.882841           0.874876           0.879151   \n",
       "2           0.871680           0.882841           0.874876           0.879151   \n",
       "\n",
       "   mean_test_score  std_test_score  rank_test_score  \n",
       "0         0.878593        0.005415                3  \n",
       "1         0.878973        0.005271                1  \n",
       "2         0.878973        0.005271                1  "
      ]
     },
     "execution_count": 68,
     "metadata": {},
     "output_type": "execute_result"
    }
   ],
   "source": [
    "df_grid"
   ]
  },
  {
   "attachments": {},
   "cell_type": "markdown",
   "metadata": {},
   "source": [
    "## Use prections with high probabilites to train a new xgboost"
   ]
  },
  {
   "cell_type": "code",
   "execution_count": 69,
   "metadata": {},
   "outputs": [],
   "source": [
    "probas = grid_search_xgboost.predict_proba(df_test)"
   ]
  },
  {
   "cell_type": "code",
   "execution_count": 70,
   "metadata": {},
   "outputs": [],
   "source": [
    "indexos = []\n",
    "targets = []\n",
    "for i, row in enumerate(probas):\n",
    "    for j, el in enumerate(row):\n",
    "        if el > 0.65:\n",
    "            indexos.append(i)\n",
    "            targets.append(j)\n"
   ]
  },
  {
   "cell_type": "code",
   "execution_count": 71,
   "metadata": {},
   "outputs": [],
   "source": [
    "Pred = df_test.copy()\n",
    "Pred = Pred.iloc[[str(c) for c in indexos]]\n",
    "Pred[\"ecoscore_grade\"] = np.array(targets)\n",
    "#Pred[\"Danone\"] = 1"
   ]
  },
  {
   "cell_type": "code",
   "execution_count": 72,
   "metadata": {},
   "outputs": [],
   "source": [
    "df_train2 = df_train.copy()\n",
    "#df_train2[\"Danone\"] = 0"
   ]
  },
  {
   "cell_type": "code",
   "execution_count": 73,
   "metadata": {},
   "outputs": [],
   "source": [
    "new_train = pd.concat((df_train2, Pred))"
   ]
  },
  {
   "cell_type": "code",
   "execution_count": 74,
   "metadata": {},
   "outputs": [
    {
     "data": {
      "text/plain": [
       "(21014, 395)"
      ]
     },
     "execution_count": 74,
     "metadata": {},
     "output_type": "execute_result"
    }
   ],
   "source": [
    "new_train.shape"
   ]
  },
  {
   "cell_type": "code",
   "execution_count": 75,
   "metadata": {},
   "outputs": [],
   "source": [
    "X2 = new_train.drop(columns=[\"ecoscore_grade\"])\n",
    "Y2 = new_train[\"ecoscore_grade\"]"
   ]
  },
  {
   "cell_type": "code",
   "execution_count": 76,
   "metadata": {},
   "outputs": [],
   "source": [
    "grid_search_xgboost2 = grid_xgboost(X2,Y2)"
   ]
  },
  {
   "cell_type": "code",
   "execution_count": 77,
   "metadata": {},
   "outputs": [
    {
     "data": {
      "text/html": [
       "<div>\n",
       "<style scoped>\n",
       "    .dataframe tbody tr th:only-of-type {\n",
       "        vertical-align: middle;\n",
       "    }\n",
       "\n",
       "    .dataframe tbody tr th {\n",
       "        vertical-align: top;\n",
       "    }\n",
       "\n",
       "    .dataframe thead th {\n",
       "        text-align: right;\n",
       "    }\n",
       "</style>\n",
       "<table border=\"1\" class=\"dataframe\">\n",
       "  <thead>\n",
       "    <tr style=\"text-align: right;\">\n",
       "      <th></th>\n",
       "      <th>mean_fit_time</th>\n",
       "      <th>std_fit_time</th>\n",
       "      <th>mean_score_time</th>\n",
       "      <th>std_score_time</th>\n",
       "      <th>param_booster</th>\n",
       "      <th>param_learning_rate</th>\n",
       "      <th>param_max_delta_step</th>\n",
       "      <th>param_max_depth</th>\n",
       "      <th>param_n_estimators</th>\n",
       "      <th>params</th>\n",
       "      <th>split0_test_score</th>\n",
       "      <th>split1_test_score</th>\n",
       "      <th>split2_test_score</th>\n",
       "      <th>split3_test_score</th>\n",
       "      <th>split4_test_score</th>\n",
       "      <th>mean_test_score</th>\n",
       "      <th>std_test_score</th>\n",
       "      <th>rank_test_score</th>\n",
       "    </tr>\n",
       "  </thead>\n",
       "  <tbody>\n",
       "    <tr>\n",
       "      <th>0</th>\n",
       "      <td>32.909557</td>\n",
       "      <td>0.122644</td>\n",
       "      <td>0.177560</td>\n",
       "      <td>0.017237</td>\n",
       "      <td>gbtree</td>\n",
       "      <td>0.15</td>\n",
       "      <td>1</td>\n",
       "      <td>8</td>\n",
       "      <td>110</td>\n",
       "      <td>{'booster': 'gbtree', 'learning_rate': 0.15, '...</td>\n",
       "      <td>0.882123</td>\n",
       "      <td>0.880435</td>\n",
       "      <td>0.880769</td>\n",
       "      <td>0.877801</td>\n",
       "      <td>0.903631</td>\n",
       "      <td>0.884952</td>\n",
       "      <td>0.009444</td>\n",
       "      <td>1</td>\n",
       "    </tr>\n",
       "    <tr>\n",
       "      <th>1</th>\n",
       "      <td>32.660294</td>\n",
       "      <td>0.196740</td>\n",
       "      <td>0.155942</td>\n",
       "      <td>0.007205</td>\n",
       "      <td>gbtree</td>\n",
       "      <td>0.15</td>\n",
       "      <td>5</td>\n",
       "      <td>8</td>\n",
       "      <td>110</td>\n",
       "      <td>{'booster': 'gbtree', 'learning_rate': 0.15, '...</td>\n",
       "      <td>0.878759</td>\n",
       "      <td>0.877617</td>\n",
       "      <td>0.877478</td>\n",
       "      <td>0.878515</td>\n",
       "      <td>0.902262</td>\n",
       "      <td>0.882926</td>\n",
       "      <td>0.009680</td>\n",
       "      <td>2</td>\n",
       "    </tr>\n",
       "    <tr>\n",
       "      <th>2</th>\n",
       "      <td>22.869799</td>\n",
       "      <td>8.030239</td>\n",
       "      <td>0.156233</td>\n",
       "      <td>0.012387</td>\n",
       "      <td>gbtree</td>\n",
       "      <td>0.15</td>\n",
       "      <td>10</td>\n",
       "      <td>8</td>\n",
       "      <td>110</td>\n",
       "      <td>{'booster': 'gbtree', 'learning_rate': 0.15, '...</td>\n",
       "      <td>0.878759</td>\n",
       "      <td>0.877617</td>\n",
       "      <td>0.877478</td>\n",
       "      <td>0.878515</td>\n",
       "      <td>0.902262</td>\n",
       "      <td>0.882926</td>\n",
       "      <td>0.009680</td>\n",
       "      <td>2</td>\n",
       "    </tr>\n",
       "  </tbody>\n",
       "</table>\n",
       "</div>"
      ],
      "text/plain": [
       "   mean_fit_time  std_fit_time  mean_score_time  std_score_time param_booster  \\\n",
       "0      32.909557      0.122644         0.177560        0.017237        gbtree   \n",
       "1      32.660294      0.196740         0.155942        0.007205        gbtree   \n",
       "2      22.869799      8.030239         0.156233        0.012387        gbtree   \n",
       "\n",
       "  param_learning_rate param_max_delta_step param_max_depth param_n_estimators  \\\n",
       "0                0.15                    1               8                110   \n",
       "1                0.15                    5               8                110   \n",
       "2                0.15                   10               8                110   \n",
       "\n",
       "                                              params  split0_test_score  \\\n",
       "0  {'booster': 'gbtree', 'learning_rate': 0.15, '...           0.882123   \n",
       "1  {'booster': 'gbtree', 'learning_rate': 0.15, '...           0.878759   \n",
       "2  {'booster': 'gbtree', 'learning_rate': 0.15, '...           0.878759   \n",
       "\n",
       "   split1_test_score  split2_test_score  split3_test_score  split4_test_score  \\\n",
       "0           0.880435           0.880769           0.877801           0.903631   \n",
       "1           0.877617           0.877478           0.878515           0.902262   \n",
       "2           0.877617           0.877478           0.878515           0.902262   \n",
       "\n",
       "   mean_test_score  std_test_score  rank_test_score  \n",
       "0         0.884952        0.009444                1  \n",
       "1         0.882926        0.009680                2  \n",
       "2         0.882926        0.009680                2  "
      ]
     },
     "execution_count": 77,
     "metadata": {},
     "output_type": "execute_result"
    }
   ],
   "source": [
    "df_grid = pd.DataFrame(grid_search_xgboost2.cv_results_)\n",
    "df_grid"
   ]
  },
  {
   "cell_type": "code",
   "execution_count": 78,
   "metadata": {},
   "outputs": [],
   "source": [
    "Pred_concat = df_test.copy()\n",
    "#Pred_concat[\"Danone\"] = 1\n",
    "Pred_concat[\"ecoscore_grade\"] =  grid_search_xgboost2.predict(Pred_concat)\n",
    "df_pred = pd.DataFrame(Pred_concat[\"ecoscore_grade\"].values, columns = [\"target\"])\n",
    "df_pred.to_json(\"7 submit.json\")"
   ]
  },
  {
   "cell_type": "code",
   "execution_count": 79,
   "metadata": {},
   "outputs": [
    {
     "data": {
      "text/plain": [
       "1    861\n",
       "3    170\n",
       "4    114\n",
       "2     78\n",
       "0     49\n",
       "Name: ecoscore_grade, dtype: int64"
      ]
     },
     "execution_count": 79,
     "metadata": {},
     "output_type": "execute_result"
    }
   ],
   "source": [
    "Pred_concat[\"ecoscore_grade\"].value_counts()"
   ]
  }
 ],
 "metadata": {
  "kernelspec": {
   "display_name": "base",
   "language": "python",
   "name": "python3"
  },
  "language_info": {
   "codemirror_mode": {
    "name": "ipython",
    "version": 3
   },
   "file_extension": ".py",
   "mimetype": "text/x-python",
   "name": "python",
   "nbconvert_exporter": "python",
   "pygments_lexer": "ipython3",
   "version": "3.10.9"
  },
  "orig_nbformat": 4
 },
 "nbformat": 4,
 "nbformat_minor": 2
}
