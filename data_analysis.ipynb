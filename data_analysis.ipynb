{
 "cells": [
  {
   "attachments": {},
   "cell_type": "markdown",
   "metadata": {},
   "source": [
    "## Imports"
   ]
  },
  {
   "cell_type": "code",
   "execution_count": 16,
   "metadata": {},
   "outputs": [],
   "source": [
    "import pandas as pd\n",
    "import json\n",
    "import numpy as np\n",
    "from sklearn.preprocessing import MultiLabelBinarizer"
   ]
  },
  {
   "attachments": {},
   "cell_type": "markdown",
   "metadata": {},
   "source": [
    "## Load data"
   ]
  },
  {
   "cell_type": "code",
   "execution_count": 17,
   "metadata": {},
   "outputs": [],
   "source": [
    "test_data = json.load(open(\"test_products.json\", \"r\"))\n",
    "train_data = json.load(open(\"train_products.json\", \"r\"))"
   ]
  },
  {
   "cell_type": "code",
   "execution_count": 18,
   "metadata": {},
   "outputs": [],
   "source": [
    "df_train = pd.DataFrame.from_dict(train_data, orient=\"index\")\n",
    "df_test = pd.DataFrame.from_dict(test_data, orient=\"index\")"
   ]
  },
  {
   "attachments": {},
   "cell_type": "markdown",
   "metadata": {},
   "source": [
    "## Preprocessing"
   ]
  },
  {
   "cell_type": "code",
   "execution_count": 4,
   "metadata": {},
   "outputs": [],
   "source": [
    "#to remove\n",
    "col_to_remove = [\"name\", \"generic_name\", \"ingredient_origins\", \"calcium_100g\", \"brand\"]\n",
    "\n",
    "#categorical\n",
    "col_categorical = [\"nutrition_grade\", \"is_beverage\"]\n",
    "\n",
    "#int\n",
    "col_int = [\"additives_count\", \"non_recyclable_and_non_biodegradable_materials_count\"]\n",
    "\n",
    "#float\n",
    "col_float = ['carbohydrates_100g', 'energy_kcal_100g', 'fat_100g', 'fiber_100g', 'proteins_100g', 'salt_100g', 'sodium_100g', 'sugars_100g', \n",
    "\"est_co2_agriculture\", \"est_co2_consumption\", \"est_co2_distribution\", \"est_co2_packaging\", \"est_co2_processing\", \"est_co2_transportation\"]\n",
    "\n",
    "#to build one hot encoder from list\n",
    "col_to_transform_from_list = [\"categories_hierarchy\", \"selling_countries\", \"packaging_materials\"]\n",
    "\n",
    "#to build one hot encoder from dictionary\n",
    "col_to_transform_from_dict = [\"ingredients\"]\n",
    "\n",
    "target = \"ecoscore_grade\""
   ]
  },
  {
   "cell_type": "code",
   "execution_count": 5,
   "metadata": {},
   "outputs": [],
   "source": [
    "mlb = MultiLabelBinarizer()\n",
    "import category_encoders as ce\n",
    "\n",
    "\n",
    "def preprocessing(df):\n",
    "    df = df.drop(columns = col_to_remove)\n",
    "    df = df.drop(columns = col_to_transform_from_dict)\n",
    "\n",
    "    for col in col_int+col_float:\n",
    "        df.loc[df[df[col]==\"unknown\"].index, col] = np.NaN\n",
    "\n",
    "    df[col_int] = df[col_int].astype(float)\n",
    "    df[col_float] = df[col_float].astype(float)\n",
    "    \n",
    "    for col in col_to_transform_from_list:\n",
    "        df = df.join(\n",
    "                pd.DataFrame(\n",
    "                    mlb.fit_transform(df.pop(col)),\n",
    "                    index=df.index,\n",
    "                    columns=mlb.classes_))\n",
    "    \n",
    "    return df\n",
    "\n",
    "df_train[target] = df_train[target].astype(int)\n",
    "\n",
    "encoder = ce.OrdinalEncoder(cols=col_categorical)   \n",
    "df_train = encoder.fit_transform(df_train)\n",
    "df_test[\"ecoscore_grade\"] = 0\n",
    "df_test = encoder.transform(df_test)\n",
    "df_test = df_test.drop(columns=\"ecoscore_grade\")\n",
    "\n",
    "df_train = preprocessing(df_train)\n",
    "df_test = preprocessing(df_test)"
   ]
  },
  {
   "cell_type": "code",
   "execution_count": 6,
   "metadata": {},
   "outputs": [],
   "source": [
    "df_train = df_train.drop_duplicates()"
   ]
  },
  {
   "cell_type": "code",
   "execution_count": 7,
   "metadata": {},
   "outputs": [],
   "source": [
    "cols = set(df_train.columns) - set(df_test.columns)\n",
    "cols.remove(\"ecoscore_grade\")\n",
    "#cols.add(\"en:unknown\")\n",
    "df_train = df_train.drop(columns=cols)\n",
    "cols = set(df_test.columns) - set(df_train.columns)\n",
    "df_test = df_test.drop(columns=cols)"
   ]
  },
  {
   "attachments": {},
   "cell_type": "markdown",
   "metadata": {},
   "source": [
    "## Train xgboost"
   ]
  },
  {
   "cell_type": "code",
   "execution_count": 8,
   "metadata": {},
   "outputs": [],
   "source": [
    "X = df_train.drop(columns=[\"ecoscore_grade\"])\n",
    "Y = df_train[\"ecoscore_grade\"]"
   ]
  },
  {
   "cell_type": "code",
   "execution_count": 9,
   "metadata": {},
   "outputs": [],
   "source": [
    "import xgboost as xgb\n",
    "from sklearn.model_selection import GridSearchCV\n",
    "\n",
    "def grid_xgboost(X,y):\n",
    "    gsc = GridSearchCV(\n",
    "                estimator=xgb.XGBClassifier(),\n",
    "                param_grid={\n",
    "                            \"n_estimators\": [100],\n",
    "                            \"learning_rate\": [0.15],\n",
    "                            \"max_depth\": [8],\n",
    "                            \"min_child_weight\": [1]},\n",
    "                cv=5, scoring=\"f1_macro\", verbose=0, n_jobs=-1)\n",
    "    gsc.fit(X,y)\n",
    "    return gsc"
   ]
  },
  {
   "cell_type": "code",
   "execution_count": 10,
   "metadata": {},
   "outputs": [],
   "source": [
    "grid_search_xgboost = grid_xgboost(X,Y)"
   ]
  },
  {
   "cell_type": "code",
   "execution_count": 11,
   "metadata": {},
   "outputs": [],
   "source": [
    "df_grid = pd.DataFrame(grid_search_xgboost.cv_results_)"
   ]
  },
  {
   "cell_type": "code",
   "execution_count": 12,
   "metadata": {},
   "outputs": [
    {
     "data": {
      "text/html": [
       "<div>\n",
       "<style scoped>\n",
       "    .dataframe tbody tr th:only-of-type {\n",
       "        vertical-align: middle;\n",
       "    }\n",
       "\n",
       "    .dataframe tbody tr th {\n",
       "        vertical-align: top;\n",
       "    }\n",
       "\n",
       "    .dataframe thead th {\n",
       "        text-align: right;\n",
       "    }\n",
       "</style>\n",
       "<table border=\"1\" class=\"dataframe\">\n",
       "  <thead>\n",
       "    <tr style=\"text-align: right;\">\n",
       "      <th></th>\n",
       "      <th>mean_fit_time</th>\n",
       "      <th>std_fit_time</th>\n",
       "      <th>mean_score_time</th>\n",
       "      <th>std_score_time</th>\n",
       "      <th>param_learning_rate</th>\n",
       "      <th>param_max_depth</th>\n",
       "      <th>param_min_child_weight</th>\n",
       "      <th>param_n_estimators</th>\n",
       "      <th>params</th>\n",
       "      <th>split0_test_score</th>\n",
       "      <th>split1_test_score</th>\n",
       "      <th>split2_test_score</th>\n",
       "      <th>split3_test_score</th>\n",
       "      <th>split4_test_score</th>\n",
       "      <th>mean_test_score</th>\n",
       "      <th>std_test_score</th>\n",
       "      <th>rank_test_score</th>\n",
       "    </tr>\n",
       "  </thead>\n",
       "  <tbody>\n",
       "    <tr>\n",
       "      <th>0</th>\n",
       "      <td>356.467201</td>\n",
       "      <td>0.836915</td>\n",
       "      <td>0.479699</td>\n",
       "      <td>0.020991</td>\n",
       "      <td>0.15</td>\n",
       "      <td>8</td>\n",
       "      <td>1</td>\n",
       "      <td>100</td>\n",
       "      <td>{'learning_rate': 0.15, 'max_depth': 8, 'min_c...</td>\n",
       "      <td>0.861013</td>\n",
       "      <td>0.855419</td>\n",
       "      <td>0.860996</td>\n",
       "      <td>0.852249</td>\n",
       "      <td>0.860961</td>\n",
       "      <td>0.858128</td>\n",
       "      <td>0.003646</td>\n",
       "      <td>1</td>\n",
       "    </tr>\n",
       "  </tbody>\n",
       "</table>\n",
       "</div>"
      ],
      "text/plain": [
       "   mean_fit_time  std_fit_time  mean_score_time  std_score_time  \\\n",
       "0     356.467201      0.836915         0.479699        0.020991   \n",
       "\n",
       "  param_learning_rate param_max_depth param_min_child_weight  \\\n",
       "0                0.15               8                      1   \n",
       "\n",
       "  param_n_estimators                                             params  \\\n",
       "0                100  {'learning_rate': 0.15, 'max_depth': 8, 'min_c...   \n",
       "\n",
       "   split0_test_score  split1_test_score  split2_test_score  split3_test_score  \\\n",
       "0           0.861013           0.855419           0.860996           0.852249   \n",
       "\n",
       "   split4_test_score  mean_test_score  std_test_score  rank_test_score  \n",
       "0           0.860961         0.858128        0.003646                1  "
      ]
     },
     "execution_count": 12,
     "metadata": {},
     "output_type": "execute_result"
    }
   ],
   "source": [
    "df_grid"
   ]
  },
  {
   "attachments": {},
   "cell_type": "markdown",
   "metadata": {},
   "source": [
    "## Predict"
   ]
  },
  {
   "cell_type": "code",
   "execution_count": 13,
   "metadata": {},
   "outputs": [],
   "source": [
    "Pred = df_test.copy()\n",
    "Pred[\"ecoscore_grade\"] =  grid_search_xgboost.predict(df_test)\n"
   ]
  },
  {
   "cell_type": "code",
   "execution_count": 14,
   "metadata": {},
   "outputs": [],
   "source": [
    "df_pred = pd.DataFrame(Pred[\"ecoscore_grade\"].values, columns = [\"target\"])"
   ]
  },
  {
   "cell_type": "code",
   "execution_count": 15,
   "metadata": {},
   "outputs": [],
   "source": [
    "#df_pred.to_json(\"1st submit.json\") 0.72\n",
    "#df_pred.to_json(\"2nd submit.json\") 0.84303\n",
    "df_pred.to_json(\"4 submit.json\")"
   ]
  },
  {
   "attachments": {},
   "cell_type": "markdown",
   "metadata": {},
   "source": [
    "## Create submissions"
   ]
  },
  {
   "cell_type": "code",
   "execution_count": 47,
   "metadata": {},
   "outputs": [],
   "source": [
    "scale_pos_weight = [0.04323695562591608, 0.668195846192343, 0.06837606837606838, 0.12549240292628025, 0.09409190371991247]"
   ]
  },
  {
   "cell_type": "code",
   "execution_count": null,
   "metadata": {},
   "outputs": [],
   "source": [
    "for i in range(5):\n",
    "    df_pred_i = pd.DataFrame(np.array([i for c in range(1272)]), columns = [\"target\"])\n",
    "    df_pred_i.to_json(f\"submit{i}.json\")"
   ]
  },
  {
   "cell_type": "code",
   "execution_count": null,
   "metadata": {},
   "outputs": [],
   "source": [
    "f1s = [0.016578, 0.16022, 0.0256, 0.0446, 0.0344]\n",
    "results = []\n",
    "for i in f1s:\n",
    "    calcul = i*5/(2 - i*5)\n",
    "    results.append(calcul)"
   ]
  },
  {
   "cell_type": "code",
   "execution_count": null,
   "metadata": {},
   "outputs": [],
   "source": [
    "results"
   ]
  },
  {
   "cell_type": "code",
   "execution_count": null,
   "metadata": {},
   "outputs": [],
   "source": []
  }
 ],
 "metadata": {
  "kernelspec": {
   "display_name": "base-env",
   "language": "python",
   "name": "base-env"
  },
  "language_info": {
   "codemirror_mode": {
    "name": "ipython",
    "version": 3
   },
   "file_extension": ".py",
   "mimetype": "text/x-python",
   "name": "python",
   "nbconvert_exporter": "python",
   "pygments_lexer": "ipython3",
   "version": "3.8.12"
  },
  "orig_nbformat": 4
 },
 "nbformat": 4,
 "nbformat_minor": 2
}
