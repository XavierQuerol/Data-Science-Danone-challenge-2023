{
  "cells": [
    {
      "cell_type": "code",
      "execution_count": null,
      "metadata": {
        "id": "2eQEMy8qutNw"
      },
      "outputs": [],
      "source": [
        "import pandas as pd\n",
        "import json\n",
        "import numpy as np\n",
        "from sklearn.preprocessing import MultiLabelBinarizer\n",
        "from google.colab import drive\n",
        "drive.mount('/content/drive')"
      ]
    },
    {
      "cell_type": "code",
      "execution_count": null,
      "metadata": {
        "id": "NiezQ6jZu13K"
      },
      "outputs": [],
      "source": [
        "test_data = json.load(open(\"/content/drive/MyDrive/test_products.json\", \"r\"))\n",
        "train_data = json.load(open(\"/content/drive/MyDrive/train_products.json\", \"r\"))"
      ]
    },
    {
      "cell_type": "code",
      "execution_count": null,
      "metadata": {
        "id": "hAayvBkMvLzi"
      },
      "outputs": [],
      "source": [
        "df_train = pd.DataFrame.from_dict(train_data, orient=\"index\")\n",
        "df_test = pd.DataFrame.from_dict(test_data, orient=\"index\")"
      ]
    },
    {
      "cell_type": "code",
      "execution_count": null,
      "metadata": {
        "id": "rEklN2nEvNp9"
      },
      "outputs": [],
      "source": [
        "#to remove\n",
        "col_to_remove = [\"name\", \"generic_name\", \"ingredient_origins\", \"calcium_100g\", \"brand\"]\n",
        "\n",
        "#categorical\n",
        "col_categorical = [\"nutrition_grade\", \"is_beverage\"]\n",
        "\n",
        "#int\n",
        "col_int = [\"additives_count\", \"non_recyclable_and_non_biodegradable_materials_count\"]\n",
        "\n",
        "#float\n",
        "col_float = ['carbohydrates_100g', 'energy_kcal_100g', 'fat_100g', 'fiber_100g', 'proteins_100g', 'salt_100g', 'sodium_100g', 'sugars_100g',\n",
        "\"est_co2_agriculture\", \"est_co2_consumption\", \"est_co2_distribution\", \"est_co2_packaging\", \"est_co2_processing\", \"est_co2_transportation\"]\n",
        "\n",
        "#to build one hot encoder from list\n",
        "col_to_transform_from_list = [\"categories_hierarchy\", \"selling_countries\", \"packaging_materials\"]\n",
        "\n",
        "#to build one hot encoder from dictionary\n",
        "col_to_transform_from_dict = [\"ingredients\"]\n",
        "\n",
        "target = \"ecoscore_grade\""
      ]
    },
    {
      "cell_type": "code",
      "execution_count": null,
      "metadata": {
        "colab": {
          "base_uri": "https://localhost:8080/"
        },
        "id": "QCTfZtzuxze5",
        "outputId": "edbdd5e0-1832-4441-8dd4-91c02d508ad1"
      },
      "outputs": [
        {
          "name": "stdout",
          "output_type": "stream",
          "text": [
            "Looking in indexes: https://pypi.org/simple, https://us-python.pkg.dev/colab-wheels/public/simple/\n",
            "Requirement already satisfied: category_encoders in /usr/local/lib/python3.10/dist-packages (2.6.1)\n",
            "Requirement already satisfied: numpy>=1.14.0 in /usr/local/lib/python3.10/dist-packages (from category_encoders) (1.22.4)\n",
            "Requirement already satisfied: scikit-learn>=0.20.0 in /usr/local/lib/python3.10/dist-packages (from category_encoders) (1.2.2)\n",
            "Requirement already satisfied: scipy>=1.0.0 in /usr/local/lib/python3.10/dist-packages (from category_encoders) (1.10.1)\n",
            "Requirement already satisfied: statsmodels>=0.9.0 in /usr/local/lib/python3.10/dist-packages (from category_encoders) (0.13.5)\n",
            "Requirement already satisfied: pandas>=1.0.5 in /usr/local/lib/python3.10/dist-packages (from category_encoders) (1.5.3)\n",
            "Requirement already satisfied: patsy>=0.5.1 in /usr/local/lib/python3.10/dist-packages (from category_encoders) (0.5.3)\n",
            "Requirement already satisfied: python-dateutil>=2.8.1 in /usr/local/lib/python3.10/dist-packages (from pandas>=1.0.5->category_encoders) (2.8.2)\n",
            "Requirement already satisfied: pytz>=2020.1 in /usr/local/lib/python3.10/dist-packages (from pandas>=1.0.5->category_encoders) (2022.7.1)\n",
            "Requirement already satisfied: six in /usr/local/lib/python3.10/dist-packages (from patsy>=0.5.1->category_encoders) (1.16.0)\n",
            "Requirement already satisfied: joblib>=1.1.1 in /usr/local/lib/python3.10/dist-packages (from scikit-learn>=0.20.0->category_encoders) (1.2.0)\n",
            "Requirement already satisfied: threadpoolctl>=2.0.0 in /usr/local/lib/python3.10/dist-packages (from scikit-learn>=0.20.0->category_encoders) (3.1.0)\n",
            "Requirement already satisfied: packaging>=21.3 in /usr/local/lib/python3.10/dist-packages (from statsmodels>=0.9.0->category_encoders) (23.1)\n"
          ]
        }
      ],
      "source": [
        "!pip install category_encoders"
      ]
    },
    {
      "cell_type": "code",
      "execution_count": null,
      "metadata": {
        "id": "ky0unGrdvPxA"
      },
      "outputs": [],
      "source": [
        "mlb = MultiLabelBinarizer()\n",
        "import category_encoders as ce\n",
        "\n",
        "\n",
        "def preprocessing(df):\n",
        "    df = df.drop(columns = col_to_remove)\n",
        "    df = df.drop(columns = col_to_transform_from_dict)\n",
        "\n",
        "    for col in col_int+col_float:\n",
        "        df.loc[df[df[col]==\"unknown\"].index, col] = np.NaN\n",
        "\n",
        "    df[col_int] = df[col_int].astype(float)\n",
        "    df[col_float] = df[col_float].astype(float)\n",
        "\n",
        "    for col in col_to_transform_from_list:\n",
        "        df = df.join(\n",
        "                pd.DataFrame(\n",
        "                    mlb.fit_transform(df.pop(col)),\n",
        "                    index=df.index,\n",
        "                    columns=mlb.classes_))\n",
        "\n",
        "    return df\n",
        "\n",
        "df_train[target] = df_train[target].astype(int)\n",
        "\n",
        "encoder = ce.OrdinalEncoder(cols=col_categorical)\n",
        "df_train = encoder.fit_transform(df_train)\n",
        "df_test[\"ecoscore_grade\"] = 0\n",
        "df_test = encoder.transform(df_test)\n",
        "df_test = df_test.drop(columns=\"ecoscore_grade\")\n",
        "\n",
        "df_train = preprocessing(df_train)\n",
        "df_test = preprocessing(df_test)"
      ]
    },
    {
      "cell_type": "code",
      "execution_count": null,
      "metadata": {
        "id": "NK3Fn9pvNJSk"
      },
      "outputs": [],
      "source": [
        "cols = set(df_train.columns) - set(df_test.columns)\n",
        "cols.remove(\"ecoscore_grade\")\n",
        "#cols.add(\"en:unknown\")\n",
        "df_train = df_train.drop(columns=cols)\n",
        "cols = set(df_test.columns) - set(df_train.columns)\n",
        "df_test = df_test.drop(columns=cols)"
      ]
    },
    {
      "cell_type": "code",
      "execution_count": null,
      "metadata": {
        "id": "6tN9CpEQvTjY"
      },
      "outputs": [],
      "source": [
        "X = df_train.drop(columns=[\"ecoscore_grade\"])\n",
        "Y = df_train[\"ecoscore_grade\"]"
      ]
    },
    {
      "cell_type": "code",
      "execution_count": null,
      "metadata": {
        "id": "P4d0OEH4vVJH"
      },
      "outputs": [],
      "source": [
        "import xgboost as xgb\n",
        "from sklearn.model_selection import GridSearchCV\n",
        "\n",
        "def grid_xgboost(X,y):\n",
        "    gsc = GridSearchCV(\n",
        "                estimator=xgb.XGBClassifier(tree_method='gpu_hist'),\n",
        "                param_grid={\n",
        "                            \"n_estimators\": [100],\n",
        "                            \"learning_rate\": [0.15],\n",
        "                            \"max_depth\": [8, 10],\n",
        "                            \"min_child_weight\": [1]},\n",
        "                cv=5, scoring=\"f1_macro\", verbose=0, n_jobs=-1)\n",
        "    gsc.fit(X,y)\n",
        "    return gsc\n",
        "\"\"\"{\n",
        "                            \"n_estimators\": [100],\n",
        "                            \"learning_rate\": [0.1],\n",
        "                            \"max_depth\": [10],\n",
        "                            \"colsample_bytree\": [0.8],\n",
        "                            \"subsample\": [0.7],\n",
        "                            \"min_child_weight\": [1],\n",
        "                            \"gamma\": [0,0.1,1],\n",
        "                            \"reg_alpha\": [0,0.1,0.001],\n",
        "                            \"reg_lambda\": [0,0.1,0.001]\n",
        "                            }\"\"\""
      ]
    },
    {
      "cell_type": "code",
      "execution_count": null,
      "metadata": {
        "id": "fjX_6LZgvXr1"
      },
      "outputs": [],
      "source": [
        "grid_search_xgboost = grid_xgboost(X,Y)"
      ]
    },
    {
      "cell_type": "code",
      "execution_count": null,
      "metadata": {
        "id": "PHJaJC2H0vhv"
      },
      "outputs": [],
      "source": [
        "df_grid = pd.DataFrame(grid_search_xgboost.cv_results_)"
      ]
    },
    {
      "cell_type": "code",
      "execution_count": null,
      "metadata": {
        "colab": {
          "base_uri": "https://localhost:8080/",
          "height": 197
        },
        "id": "oS3ZNCOT02J1",
        "outputId": "01329fc3-7adb-4e07-e995-064aacb967de"
      },
      "outputs": [
        {
          "data": {
            "text/html": [
              "\n",
              "  <div id=\"df-6ed526b5-07a2-44fb-b80f-c82dda829535\">\n",
              "    <div class=\"colab-df-container\">\n",
              "      <div>\n",
              "<style scoped>\n",
              "    .dataframe tbody tr th:only-of-type {\n",
              "        vertical-align: middle;\n",
              "    }\n",
              "\n",
              "    .dataframe tbody tr th {\n",
              "        vertical-align: top;\n",
              "    }\n",
              "\n",
              "    .dataframe thead th {\n",
              "        text-align: right;\n",
              "    }\n",
              "</style>\n",
              "<table border=\"1\" class=\"dataframe\">\n",
              "  <thead>\n",
              "    <tr style=\"text-align: right;\">\n",
              "      <th></th>\n",
              "      <th>mean_fit_time</th>\n",
              "      <th>std_fit_time</th>\n",
              "      <th>mean_score_time</th>\n",
              "      <th>std_score_time</th>\n",
              "      <th>param_learning_rate</th>\n",
              "      <th>param_max_depth</th>\n",
              "      <th>param_min_child_weight</th>\n",
              "      <th>param_n_estimators</th>\n",
              "      <th>params</th>\n",
              "      <th>split0_test_score</th>\n",
              "      <th>split1_test_score</th>\n",
              "      <th>split2_test_score</th>\n",
              "      <th>split3_test_score</th>\n",
              "      <th>split4_test_score</th>\n",
              "      <th>mean_test_score</th>\n",
              "      <th>std_test_score</th>\n",
              "      <th>rank_test_score</th>\n",
              "    </tr>\n",
              "  </thead>\n",
              "  <tbody>\n",
              "    <tr>\n",
              "      <th>0</th>\n",
              "      <td>7.372704</td>\n",
              "      <td>1.818463</td>\n",
              "      <td>0.167187</td>\n",
              "      <td>0.022087</td>\n",
              "      <td>0.15</td>\n",
              "      <td>8</td>\n",
              "      <td>1</td>\n",
              "      <td>100</td>\n",
              "      <td>{'learning_rate': 0.15, 'max_depth': 8, 'min_c...</td>\n",
              "      <td>0.862766</td>\n",
              "      <td>0.85138</td>\n",
              "      <td>0.858485</td>\n",
              "      <td>0.853064</td>\n",
              "      <td>0.855851</td>\n",
              "      <td>0.856309</td>\n",
              "      <td>0.004036</td>\n",
              "      <td>1</td>\n",
              "    </tr>\n",
              "  </tbody>\n",
              "</table>\n",
              "</div>\n",
              "      <button class=\"colab-df-convert\" onclick=\"convertToInteractive('df-6ed526b5-07a2-44fb-b80f-c82dda829535')\"\n",
              "              title=\"Convert this dataframe to an interactive table.\"\n",
              "              style=\"display:none;\">\n",
              "        \n",
              "  <svg xmlns=\"http://www.w3.org/2000/svg\" height=\"24px\"viewBox=\"0 0 24 24\"\n",
              "       width=\"24px\">\n",
              "    <path d=\"M0 0h24v24H0V0z\" fill=\"none\"/>\n",
              "    <path d=\"M18.56 5.44l.94 2.06.94-2.06 2.06-.94-2.06-.94-.94-2.06-.94 2.06-2.06.94zm-11 1L8.5 8.5l.94-2.06 2.06-.94-2.06-.94L8.5 2.5l-.94 2.06-2.06.94zm10 10l.94 2.06.94-2.06 2.06-.94-2.06-.94-.94-2.06-.94 2.06-2.06.94z\"/><path d=\"M17.41 7.96l-1.37-1.37c-.4-.4-.92-.59-1.43-.59-.52 0-1.04.2-1.43.59L10.3 9.45l-7.72 7.72c-.78.78-.78 2.05 0 2.83L4 21.41c.39.39.9.59 1.41.59.51 0 1.02-.2 1.41-.59l7.78-7.78 2.81-2.81c.8-.78.8-2.07 0-2.86zM5.41 20L4 18.59l7.72-7.72 1.47 1.35L5.41 20z\"/>\n",
              "  </svg>\n",
              "      </button>\n",
              "      \n",
              "  <style>\n",
              "    .colab-df-container {\n",
              "      display:flex;\n",
              "      flex-wrap:wrap;\n",
              "      gap: 12px;\n",
              "    }\n",
              "\n",
              "    .colab-df-convert {\n",
              "      background-color: #E8F0FE;\n",
              "      border: none;\n",
              "      border-radius: 50%;\n",
              "      cursor: pointer;\n",
              "      display: none;\n",
              "      fill: #1967D2;\n",
              "      height: 32px;\n",
              "      padding: 0 0 0 0;\n",
              "      width: 32px;\n",
              "    }\n",
              "\n",
              "    .colab-df-convert:hover {\n",
              "      background-color: #E2EBFA;\n",
              "      box-shadow: 0px 1px 2px rgba(60, 64, 67, 0.3), 0px 1px 3px 1px rgba(60, 64, 67, 0.15);\n",
              "      fill: #174EA6;\n",
              "    }\n",
              "\n",
              "    [theme=dark] .colab-df-convert {\n",
              "      background-color: #3B4455;\n",
              "      fill: #D2E3FC;\n",
              "    }\n",
              "\n",
              "    [theme=dark] .colab-df-convert:hover {\n",
              "      background-color: #434B5C;\n",
              "      box-shadow: 0px 1px 3px 1px rgba(0, 0, 0, 0.15);\n",
              "      filter: drop-shadow(0px 1px 2px rgba(0, 0, 0, 0.3));\n",
              "      fill: #FFFFFF;\n",
              "    }\n",
              "  </style>\n",
              "\n",
              "      <script>\n",
              "        const buttonEl =\n",
              "          document.querySelector('#df-6ed526b5-07a2-44fb-b80f-c82dda829535 button.colab-df-convert');\n",
              "        buttonEl.style.display =\n",
              "          google.colab.kernel.accessAllowed ? 'block' : 'none';\n",
              "\n",
              "        async function convertToInteractive(key) {\n",
              "          const element = document.querySelector('#df-6ed526b5-07a2-44fb-b80f-c82dda829535');\n",
              "          const dataTable =\n",
              "            await google.colab.kernel.invokeFunction('convertToInteractive',\n",
              "                                                     [key], {});\n",
              "          if (!dataTable) return;\n",
              "\n",
              "          const docLinkHtml = 'Like what you see? Visit the ' +\n",
              "            '<a target=\"_blank\" href=https://colab.research.google.com/notebooks/data_table.ipynb>data table notebook</a>'\n",
              "            + ' to learn more about interactive tables.';\n",
              "          element.innerHTML = '';\n",
              "          dataTable['output_type'] = 'display_data';\n",
              "          await google.colab.output.renderOutput(dataTable, element);\n",
              "          const docLink = document.createElement('div');\n",
              "          docLink.innerHTML = docLinkHtml;\n",
              "          element.appendChild(docLink);\n",
              "        }\n",
              "      </script>\n",
              "    </div>\n",
              "  </div>\n",
              "  "
            ],
            "text/plain": [
              "   mean_fit_time  std_fit_time  mean_score_time  std_score_time  \\\n",
              "0       7.372704      1.818463         0.167187        0.022087   \n",
              "\n",
              "  param_learning_rate param_max_depth param_min_child_weight  \\\n",
              "0                0.15               8                      1   \n",
              "\n",
              "  param_n_estimators                                             params  \\\n",
              "0                100  {'learning_rate': 0.15, 'max_depth': 8, 'min_c...   \n",
              "\n",
              "   split0_test_score  split1_test_score  split2_test_score  split3_test_score  \\\n",
              "0           0.862766            0.85138           0.858485           0.853064   \n",
              "\n",
              "   split4_test_score  mean_test_score  std_test_score  rank_test_score  \n",
              "0           0.855851         0.856309        0.004036                1  "
            ]
          },
          "execution_count": 103,
          "metadata": {},
          "output_type": "execute_result"
        }
      ],
      "source": [
        "df_grid"
      ]
    },
    {
      "cell_type": "code",
      "execution_count": null,
      "metadata": {
        "id": "2KqCTNcq3J2w"
      },
      "outputs": [],
      "source": [
        "Pred = df_test.copy()\n",
        "Pred[\"ecoscore_grade\"] =  grid_search_xgboost.predict(df_test)\n",
        "df_pred = pd.DataFrame(Pred[\"ecoscore_grade\"].values, columns = [\"target\"])\n",
        "df_pred.to_json(\"/content/5 submit.json\")"
      ]
    }
  ],
  "metadata": {
    "accelerator": "GPU",
    "colab": {
      "gpuType": "T4",
      "provenance": []
    },
    "kernelspec": {
      "display_name": "Python 3",
      "name": "python3"
    },
    "language_info": {
      "name": "python"
    }
  },
  "nbformat": 4,
  "nbformat_minor": 0
}
